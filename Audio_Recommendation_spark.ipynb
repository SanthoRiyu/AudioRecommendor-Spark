{
 "cells": [
  {
   "cell_type": "code",
   "execution_count": null,
   "metadata": {},
   "outputs": [],
   "source": [
    "import findspark\n",
    "import pyspark\n",
    "from pyspark import SparkContext\n",
    "from pyspark import SparkConf\n",
    "from pyspark.mllib import recommendation\n",
    "from pyspark.mllib.recommendation import *\n",
    "\n",
    "sc = SparkContext()"
   ]
  },
  {
   "cell_type": "code",
   "execution_count": null,
   "metadata": {},
   "outputs": [],
   "source": [
    "''' define variables'''\n",
    "\n",
    "rawUserArtistData = sc.textFile(\"file:///home/santho/Audio_recomm/data/user_artist_data.txt\")\n",
    "rawArtistData = sc.textFile(\"file:///home/santho/Audio_recomm/data/artist_data.txt\")\n",
    "rawArtistAlias = sc.textFile(\"file:///home/santho/Audio_recomm/data/artist_alias.txt\")"
   ]
  },
  {
   "cell_type": "code",
   "execution_count": null,
   "metadata": {},
   "outputs": [],
   "source": [
    "rawArtistData.first()"
   ]
  },
  {
   "cell_type": "code",
   "execution_count": null,
   "metadata": {},
   "outputs": [],
   "source": [
    "def pairsplit(singlePair):\n",
    "    splitPair = singlePair.rsplit('\\t')\n",
    "    if len(splitPair)!=2:\n",
    "        return []\n",
    "    else:\n",
    "        try:\n",
    "            return [(int(splitPair[0]), splitPair[1])]\n",
    "        except:\n",
    "            return []\n",
    "artistByID = dict(rawArtistData.flatMap(lambda x: pairsplit(x)).collect())"
   ]
  },
  {
   "cell_type": "code",
   "execution_count": null,
   "metadata": {},
   "outputs": [],
   "source": [
    "def aliaslookup(alias):\n",
    "    splitPair = alias.rsplit('\\t')\n",
    "    if len(splitPair) !=2:\n",
    "        return []\n",
    "    else:\n",
    "        try:\n",
    "            return [(int(splitPair[0]),int(splitPair[1]))]\n",
    "        except:\n",
    "            return []\n",
    "artistAlias = rawArtistAlias.flatMap(lambda x: aliaslookup(x)).collectAsMap()"
   ]
  },
  {
   "cell_type": "code",
   "execution_count": null,
   "metadata": {},
   "outputs": [],
   "source": [
    "bArtistAlias = sc.broadcast(artistAlias)"
   ]
  },
  {
   "cell_type": "code",
   "execution_count": null,
   "metadata": {},
   "outputs": [],
   "source": [
    "#Build a model\n",
    "\n",
    "def ratinglookup(x):\n",
    "    userID, artistID, count = map(lambda line: int(line),x.split())\n",
    "    finalArtistID = bArtistAlias.value.get(artistID)\n",
    "    if finalArtistID is None:\n",
    "        finalArtistID = artistID\n",
    "    return Rating(userID, finalArtistID, count)\n",
    "\n",
    "trainData = rawUserArtistData.map(lambda x: ratinglookup(x))\n",
    "trainData.cache()"
   ]
  },
  {
   "cell_type": "code",
   "execution_count": null,
   "metadata": {},
   "outputs": [],
   "source": [
    "model = ALS.trainImplicit(trainData,10, 5)"
   ]
  },
  {
   "cell_type": "code",
   "execution_count": null,
   "metadata": {},
   "outputs": [],
   "source": [
    "'''test artist'''\n",
    "\n",
    "spotCheckingID = 2093760\n",
    "bArtistByID = sc.broadcast(artistByID)\n",
    "\n",
    "rawArtistsForUser = (trainData\n",
    "                    .filter(lambda x: x.user == spotCheckingID)\n",
    "                    .map(lambda x: bArtistByID.value.get(x.product))\n",
    "                    .collect())\n",
    "print(rawArtistsForUser)"
   ]
  },
  {
   "cell_type": "code",
   "execution_count": null,
   "metadata": {},
   "outputs": [],
   "source": [
    "'''output Recommendation'''\n",
    "recommendations = map(lambda x: artistByID.get(x.product),\n",
    "                    model.call(\"recommendProducts\", spotcheckingID, 10))\n",
    "print(recommendations)"
   ]
  },
  {
   "cell_type": "code",
   "execution_count": null,
   "metadata": {},
   "outputs": [],
   "source": []
  }
 ],
 "metadata": {
  "kernelspec": {
   "display_name": "Python 3",
   "language": "python",
   "name": "python3"
  },
  "language_info": {
   "codemirror_mode": {
    "name": "ipython",
    "version": 3
   },
   "file_extension": ".py",
   "mimetype": "text/x-python",
   "name": "python",
   "nbconvert_exporter": "python",
   "pygments_lexer": "ipython3",
   "version": "3.6.7"
  }
 },
 "nbformat": 4,
 "nbformat_minor": 2
}
